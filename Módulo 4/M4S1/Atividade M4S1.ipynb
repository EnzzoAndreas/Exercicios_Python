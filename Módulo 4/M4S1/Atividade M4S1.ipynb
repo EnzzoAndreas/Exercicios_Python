{
 "cells": [
  {
   "cell_type": "code",
   "execution_count": 1,
   "id": "6b9450c3",
   "metadata": {
    "scrolled": true
   },
   "outputs": [
    {
     "name": "stdout",
     "output_type": "stream",
     "text": [
      "id: 9521\n",
      "nome: AVENTADOR 770-4 SVJ ROADSTER V12\n",
      "________________________________\n",
      "id: 6110\n",
      "nome: AVENTADOR LP 700-4\n",
      "________________________________\n",
      "id: 6922\n",
      "nome: AVENTADOR LP 700-4 ROADSTER\n",
      "________________________________\n",
      "id: 8863\n",
      "nome: AVENTADOR LP 770-4 SVJ\n",
      "________________________________\n",
      "id: 8083\n",
      "nome: AVENTADOR S LP 740-4\n",
      "________________________________\n",
      "id: 8750\n",
      "nome: AVENTADOR S LP 740-4 ROADSTER\n",
      "________________________________\n",
      "id: 6112\n",
      "nome: GALLARDO COUPE LP550-2 BICOLORE\n",
      "________________________________\n",
      "id: 5375\n",
      "nome: GALLARDO COUPE LP560-4\n",
      "________________________________\n",
      "id: 6114\n",
      "nome: GALLARDO COUPE LP570-4 SUP.TROF.STRADALE\n",
      "________________________________\n",
      "id: 5376\n",
      "nome: GALLARDO COUPE SUPERLEGGERA LP570-4\n",
      "________________________________\n",
      "id: 5377\n",
      "nome: GALLARDO COUPE VALENTINO BALBONI LP550-2\n",
      "________________________________\n",
      "id: 5378\n",
      "nome: GALLARDO SPYDER LP560-4\n",
      "________________________________\n",
      "id: 5744\n",
      "nome: GALLARDO SPYDER PERFORMANTE LP570-4\n",
      "________________________________\n",
      "id: 7138\n",
      "nome: HURACAN COUPE LP 610-4\n",
      "________________________________\n",
      "id: 8458\n",
      "nome: HURACAN COUPE PERFORMANTE LP 640-4\n",
      "________________________________\n",
      "id: 8084\n",
      "nome: HURACAN COUPE RWD LP 580-2\n",
      "________________________________\n",
      "id: 8958\n",
      "nome: HURACAN EVO COUPE LP 640-4\n",
      "________________________________\n",
      "id: 8959\n",
      "nome: HURACAN EVO SPYDER LP 640-4\n",
      "________________________________\n",
      "id: 7884\n",
      "nome: HURACAN SPYDER LP 610-4\n",
      "________________________________\n",
      "id: 8545\n",
      "nome: URUS LP-650-4\n",
      "________________________________\n"
     ]
    }
   ],
   "source": [
    "import requests\n",
    "\n",
    "def recuperar_marcas(id_marca):\n",
    "    url_completa = f'https://parallelum.com.br/fipe/api/v1/carros/marcas/{id_marca}/modelos'\n",
    "    resposta = requests.get(url_completa, headers = {\"user-agent\": \"text\"})\n",
    "    \n",
    "    if resposta.status_code != 200:\n",
    "        return print(resposta.status_code)\n",
    "    \n",
    "    resposta_info = resposta.json()\n",
    "    marcas = resposta_info['modelos']\n",
    "    \n",
    "    return marcas\n",
    "\n",
    "class marca_iterator():\n",
    "    def __init__(self, id_marca):\n",
    "        self.index = 0\n",
    "        self.id_marca = id_marca\n",
    "        self.carros = []\n",
    "\n",
    "        \n",
    "    def __iter__(self):\n",
    "        self.carros = recuperar_marcas(self.id_marca)\n",
    "        return self\n",
    "    \n",
    "    def __next__(self):\n",
    "        if self.index >= len(self.carros):\n",
    "            raise StopIteration\n",
    "        modelo = self.carros[self.index] \n",
    "\n",
    "        self.index += 1\n",
    "        return modelo\n",
    "        \n",
    "if __name__ == '__main__':\n",
    "    for carro in marca_iterator(171):\n",
    "        print(f'id: {carro[\"codigo\"]}')\n",
    "        print(f'nome: {carro[\"nome\"].upper()}')\n",
    "        print('________________________________') \n",
    "        "
   ]
  }
 ],
 "metadata": {
  "kernelspec": {
   "display_name": "Python 3 (ipykernel)",
   "language": "python",
   "name": "python3"
  },
  "language_info": {
   "codemirror_mode": {
    "name": "ipython",
    "version": 3
   },
   "file_extension": ".py",
   "mimetype": "text/x-python",
   "name": "python",
   "nbconvert_exporter": "python",
   "pygments_lexer": "ipython3",
   "version": "3.11.0"
  },
  "vscode": {
   "interpreter": {
    "hash": "ca02d05c83cb06a4d3d1bb3c2ad95bd9ee4b26f688526444572dc942a69d580d"
   }
  }
 },
 "nbformat": 4,
 "nbformat_minor": 5
}
