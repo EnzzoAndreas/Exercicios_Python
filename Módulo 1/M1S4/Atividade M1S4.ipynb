{
 "cells": [
  {
   "cell_type": "markdown",
   "id": "1833801d",
   "metadata": {},
   "source": [
    "### BANCO ULTIMA"
   ]
  },
  {
   "cell_type": "code",
   "execution_count": null,
   "id": "316ac8dd",
   "metadata": {},
   "outputs": [],
   "source": [
    "# Desenvolva um programa que simule a entrega de notas quando um cliente efetuar um saque em um caixa.\n",
    "# Os requisitos básicos são os seguintes:\n",
    "\n",
    "# Entregar o menor número de notas;\n",
    "\n",
    "# É possível sacar o valor solicitado com as notas disponíveis;\n",
    "\n",
    "# Saldo do cliente infinito;\n",
    "\n",
    "# Quantidade infinita de notas;\n",
    "\n",
    "# Notas disponíveis: R$ 100,00; R$ 50,00; R$ 20,00 e R$ 10,00"
   ]
  },
  {
   "cell_type": "code",
   "execution_count": 5,
   "id": "df42ab5a",
   "metadata": {
    "scrolled": false
   },
   "outputs": [
    {
     "name": "stdout",
     "output_type": "stream",
     "text": [
      "Valor do saque: 200\n",
      "SACANDO: 1 nota de R$ 200,00\n",
      "Obrigado por utilizar o Ultima Bank\n"
     ]
    }
   ],
   "source": [
    "class caixaEletronico():\n",
    "    def __init__(self, nome):\n",
    "        self.notas  = [200, 100, 50, 20, 10, 5] # adicionei mais notas em comparação as cedulas brasileiras\n",
    "        self.nome_banco = nome \n",
    "        \n",
    "    def sacar(self, valor_saque):\n",
    "        valor = valor_saque\n",
    "        resto = -1\n",
    "        notas_entregues = []\n",
    "        for nota in self.notas:\n",
    "            qtd_notas = valor // nota\n",
    "            resto = valor % nota\n",
    "            valor = resto\n",
    "            if qtd_notas > 0:\n",
    "                notas_entregues.append(f'SACANDO: {qtd_notas} nota de R$ {nota},00')\n",
    "                \n",
    "        if resto == 0:\n",
    "            print(';\\n'.join(notas_entregues))\n",
    "        else:\n",
    "            print(f\"Não é possivel sacar o valor {valor_saque}\")\n",
    "        \n",
    "        self.encerrar_atendimento()\n",
    "        \n",
    "    def encerrar_atendimento(self):\n",
    "        print(f'Obrigado por utilizar o {self.nome_banco}')           \n",
    "            \n",
    "if __name__ == \"__main__\":\n",
    "    caixaEletronico = caixaEletronico(\"Ultima Bank\")\n",
    "    valor = int(input(\"Valor do saque: \"))\n",
    "    caixaEletronico.sacar(valor)"
   ]
  }
 ],
 "metadata": {
  "kernelspec": {
   "display_name": "Python 3 (ipykernel)",
   "language": "python",
   "name": "python3"
  },
  "language_info": {
   "codemirror_mode": {
    "name": "ipython",
    "version": 3
   },
   "file_extension": ".py",
   "mimetype": "text/x-python",
   "name": "python",
   "nbconvert_exporter": "python",
   "pygments_lexer": "ipython3",
   "version": "3.9.12"
  }
 },
 "nbformat": 4,
 "nbformat_minor": 5
}
