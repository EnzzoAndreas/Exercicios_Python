{
 "cells": [
  {
   "cell_type": "markdown",
   "id": "057dfcc0",
   "metadata": {},
   "source": [
    "- 1. Crie uma função que, ao receber um número inteiro, retorna se um número  é par ou ímpar (utilizando **kwargs).\n",
    "\n",
    "- 2. Crie de forma recursiva uma função que printe do número recebido até o zero.\n",
    "\n",
    "- 3. Crie uma função de somatório que some todos os números que a mesma receber (usando *args ).\n",
    "\n",
    "- 4. Crie um programa com uma função que necessite de três argumentos, e que forneça a soma desses três argumentos.\n",
    "\n",
    "- 5. Faça um programa com uma função que necessite de um argumento. A função deve retornar o valor de caractere ‘P’, se seu argumento for positivo, e ‘N’, se seu argumento for zero ou negativo.\n",
    "\n",
    "- 6. Crie uma função que permita contar o número de vezes que aparece uma letra em uma string.\n",
    "\n",
    "- 7. Escreva uma função que, dado o valor da conta de um restaurante, calcule e exiba a gorjeta do garçom, considerando 10% do valor da conta.\n",
    "\n",
    "- 8. Crie uma função que receba duas palavras e retorne True caso a primeira palavra seja um prefixo da segunda. Exemplo: ’uf’ é prefixo de ’ufabc’. ’ufabc’ não é prefixo de ’uf’."
   ]
  },
  {
   "cell_type": "code",
   "execution_count": 2,
   "id": "d6fb07fe",
   "metadata": {},
   "outputs": [
    {
     "name": "stdout",
     "output_type": "stream",
     "text": [
      "Seu numero é Par\n"
     ]
    }
   ],
   "source": [
    "# 1 - \n",
    "def numero(**kwargs):\n",
    "    return numero\n",
    "\n",
    "numero = int(input('Digite um numero: '))\n",
    "resto = numero % 2\n",
    "\n",
    "if resto == 0:\n",
    "    print('Seu numero é Par')\n",
    "else:\n",
    "    print('seu numero é Impar')\n",
    "        "
   ]
  },
  {
   "cell_type": "code",
   "execution_count": 1,
   "id": "2415a2b3",
   "metadata": {},
   "outputs": [
    {
     "name": "stdout",
     "output_type": "stream",
     "text": [
      "4\n",
      "3\n",
      "2\n",
      "1\n",
      "0\n"
     ]
    }
   ],
   "source": [
    "# 2- \n",
    "def recursividade(numero):\n",
    "    return numero\n",
    "\n",
    "numero = int(input(\"digite um numero: \"))\n",
    "\n",
    "while (numero >= 0):\n",
    "    print(numero)\n",
    "    numero -= 1 \n"
   ]
  },
  {
   "cell_type": "code",
   "execution_count": 16,
   "id": "b4d7e479",
   "metadata": {},
   "outputs": [
    {
     "name": "stdout",
     "output_type": "stream",
     "text": [
      "digite um numero: 7\n",
      "7\n",
      "8\n",
      "9\n",
      "10\n"
     ]
    }
   ],
   "source": [
    "# 3- \n",
    "def somatorio(*args):\n",
    "    return somatorio\n",
    "\n",
    "somatorio = int(input(\"digite um numero: \"))\n",
    "\n",
    "while (somatorio <= 10):\n",
    "    print(somatorio)\n",
    "    somatorio += 1 \n",
    "    "
   ]
  },
  {
   "cell_type": "code",
   "execution_count": 17,
   "id": "3f8ddf02",
   "metadata": {},
   "outputs": [
    {
     "name": "stdout",
     "output_type": "stream",
     "text": [
      "35\n"
     ]
    }
   ],
   "source": [
    "# 4\n",
    "def sum3(soma1 = 10, soma2 = 5, soma3 = 20):\n",
    "    calculo = soma1 + soma2 + soma3\n",
    "    print(calculo)\n",
    "\n",
    "sum3()"
   ]
  },
  {
   "cell_type": "code",
   "execution_count": 31,
   "id": "f85700d3",
   "metadata": {},
   "outputs": [
    {
     "name": "stdout",
     "output_type": "stream",
     "text": [
      "digite uma palavra: Carlos\n",
      "(N) negativo/nulo\n"
     ]
    }
   ],
   "source": [
    "# 5\n",
    "\n",
    "def caracter(palavra):\n",
    "    return palavra\n",
    "\n",
    "palavra = str(input(\"digite uma palavra: \"))\n",
    "if palavra >= 'E':\n",
    "    print(\"(P) positivo\")\n",
    "else:\n",
    "    print(\"(N) negativo/nulo\")"
   ]
  },
  {
   "cell_type": "code",
   "execution_count": 17,
   "id": "0c1ad820",
   "metadata": {},
   "outputs": [
    {
     "name": "stdout",
     "output_type": "stream",
     "text": [
      "5\n"
     ]
    }
   ],
   "source": [
    "# 6\n",
    "def txt(texto):\n",
    "    return texto\n",
    "\n",
    "texto = \"ontem eu comi arroz com feijao e salada\"\n",
    "print(texto.count('o'))"
   ]
  },
  {
   "cell_type": "code",
   "execution_count": 4,
   "id": "82b6cfdc",
   "metadata": {},
   "outputs": [
    {
     "name": "stdout",
     "output_type": "stream",
     "text": [
      "A gorjeta do garçom é de: R$ 50.0 reais\n"
     ]
    }
   ],
   "source": [
    "# 7\n",
    "def restaurante(conta):\n",
    "    return conta\n",
    "\n",
    "conta = int(input(\"Total a pagar: R$ \"))\n",
    "gorjeta = conta * 0.10\n",
    "\n",
    "print(f\"A gorjeta do garçom é de: R$ {gorjeta} reais\")\n"
   ]
  },
  {
   "cell_type": "code",
   "execution_count": 1,
   "id": "3f82ad8f",
   "metadata": {},
   "outputs": [
    {
     "name": "stdout",
     "output_type": "stream",
     "text": [
      "Palavra 1: uf\n",
      "Palavra 2: ufabc\n",
      "True, é prefixo\n"
     ]
    }
   ],
   "source": [
    "# 8\n",
    "def prefi(palavra1, palavra2):\n",
    "    return palavra1, palavra2\n",
    "\n",
    "palavra1 = str(input(\"Palavra 1: \"))\n",
    "palavra2 = str(input(\"Palavra 2: \"))\n",
    "\n",
    "if palavra1 <= palavra2:\n",
    "    print('True, é prefixo')\n",
    "else:\n",
    "    print('False')"
   ]
  }
 ],
 "metadata": {
  "kernelspec": {
   "display_name": "Python 3.9.12 ('base')",
   "language": "python",
   "name": "python3"
  },
  "language_info": {
   "codemirror_mode": {
    "name": "ipython",
    "version": 3
   },
   "file_extension": ".py",
   "mimetype": "text/x-python",
   "name": "python",
   "nbconvert_exporter": "python",
   "pygments_lexer": "ipython3",
   "version": "3.11.0"
  },
  "vscode": {
   "interpreter": {
    "hash": "ca02d05c83cb06a4d3d1bb3c2ad95bd9ee4b26f688526444572dc942a69d580d"
   }
  }
 },
 "nbformat": 4,
 "nbformat_minor": 5
}
