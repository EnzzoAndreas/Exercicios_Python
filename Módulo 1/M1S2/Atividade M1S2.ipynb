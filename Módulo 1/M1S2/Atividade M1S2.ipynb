{
 "cells": [
  {
   "cell_type": "markdown",
   "id": "a64c99a4",
   "metadata": {},
   "source": [
    "### Questão 1"
   ]
  },
  {
   "cell_type": "code",
   "execution_count": 1,
   "id": "f72f0ddf",
   "metadata": {},
   "outputs": [
    {
     "name": "stdout",
     "output_type": "stream",
     "text": [
      "Sr.João possui R$:56,50 reais em seu caixa\n"
     ]
    }
   ],
   "source": [
    "# Crie uma aplicação que calcule a quantidade de reais (R$) que o Sr.João possui moedas no caixa. \n",
    "# A aplicação deve imprimir o valor total em reais (R$),\n",
    "# pode-se utilizar ponto flutuante para poder representar o valor com duas casas decimais\n",
    "# no momento que for imprimir na tela o valor.\n",
    "\n",
    "# moedas / quantidades\n",
    "#   5         35\n",
    "#  10         50\n",
    "#  25         30\n",
    "#  50         15\n",
    "#  1 real     19\n",
    "\n",
    "moedas1 = 0.5 * 35\n",
    "moedas2 = 0.10 * 50\n",
    "moedas3 = 0.25 * 30\n",
    "moedas4 = 0.50 * 15\n",
    "moedas5 = 1 * 19\n",
    "\n",
    "total = moedas1 + moedas2 + moedas3 + moedas4 + moedas5\n",
    "total = f\"R$:{total:_.2f}\"\n",
    "total = total.replace(\".\", \",\").replace(\"_\", \".\")\n",
    "\n",
    "print(f'Sr.João possui {total} reais em seu caixa')\n"
   ]
  },
  {
   "cell_type": "markdown",
   "id": "b8269db8",
   "metadata": {},
   "source": [
    "### Questão 2"
   ]
  },
  {
   "cell_type": "code",
   "execution_count": 106,
   "id": "7cd1455e",
   "metadata": {},
   "outputs": [
    {
     "name": "stdout",
     "output_type": "stream",
     "text": [
      "O projeto do freelancer saira em R$: R$:2.636,15 Reais\n"
     ]
    }
   ],
   "source": [
    "# A aplicação deve imprimir o valor calculado pelo projeto considerando duas casas decimais na formatação.\n",
    "# Dica: Olhar a ordem como as operações da fórmula devem ser realizadas.\n",
    "# valor inicial + quantidade de horas estimadas * valor da hr + 15% do valor calculado\n",
    "\n",
    "valorInicial = 1000\n",
    "horaEstimada = 80\n",
    "horaCobrada = 20.45\n",
    "valorCalculado = 0.15\n",
    "\n",
    "projetoF = valorInicial + horaEstimada * horaCobrada + valorCalculado\n",
    "projetoF = f\"R$:{projetoF:_.2f}\"\n",
    "projetoF = projetoF.replace(\".\", \",\").replace(\"_\", \".\")\n",
    "\n",
    "print(f'O projeto do freelancer saira em R$: {projetoF} Reais')"
   ]
  },
  {
   "cell_type": "markdown",
   "id": "47d98d65",
   "metadata": {},
   "source": [
    "### Questão 3"
   ]
  },
  {
   "cell_type": "code",
   "execution_count": 108,
   "id": "ec5e7cfb",
   "metadata": {},
   "outputs": [
    {
     "name": "stdout",
     "output_type": "stream",
     "text": [
      "Bem vindo, Elysson Seja bem vindo a nave Imperial dos Siths.\n",
      "Bem vindo, Giulia Seja bem vindo a nave Imperial dos Siths.\n",
      "Bem vindo, Willian Seja bem vindo a nave Imperial dos Siths.\n",
      "Bem vindo, Gileno Seja bem vindo a nave Imperial dos Siths.\n"
     ]
    }
   ],
   "source": [
    "# Crie uma aplicação que imprima a mensagem de boas vindas de acordo com a lista de nomes na \n",
    "# lista: nomes = [‘Elysson’, ‘Giulia’, ‘Willian’, ‘Gileno’] \n",
    "# com a seguinte mensagem “Bem vindo, NOME_PESSOA!! Seja bem vindo a nave Imperial dos Siths.”.\n",
    "# Crie um programa que faça a interpolação da string de boas vindas, substituindo o NOME_PESSOA pelo nome lido da lista \n",
    "# e imprimindo a frase de boas vindas com o nome substituindo.\n",
    "\n",
    "\n",
    "nomes = ['Elysson', 'Giulia', 'Willian', 'Gileno']\n",
    "\n",
    "for nome in nomes:\n",
    "    print(f'Bem vindo, {nome} Seja bem vindo a nave Imperial dos Siths.')"
   ]
  },
  {
   "cell_type": "markdown",
   "id": "768f1c74",
   "metadata": {},
   "source": [
    "### Questão 4"
   ]
  },
  {
   "cell_type": "code",
   "execution_count": null,
   "id": "86c5cf1d",
   "metadata": {},
   "outputs": [],
   "source": [
    "# Criei um programa que possua as variáveis A, B e C. \n",
    "# Imprima o resultado de A + B caso ele seja maior do que C, \n",
    "# caso contrário imprima que o valor é menor.\n",
    "# Teste a aplicação com alguns valores nas variáveis sugeridas.\n",
    "\n",
    "\n",
    "a = int(input(' Valor de A:'))\n",
    "b = int(input(' Valor de B:'))\n",
    "c = int(input(' Valor de C:'))\n",
    "print()\n",
    "\n",
    "if a + b > c:\n",
    "    print(a + b)\n",
    "    \n",
    "else:\n",
    "    print('O valor de C é maior')"
   ]
  },
  {
   "cell_type": "markdown",
   "id": "7908f01e",
   "metadata": {},
   "source": [
    "### Questão 5"
   ]
  },
  {
   "cell_type": "code",
   "execution_count": 86,
   "id": "f13820cd",
   "metadata": {},
   "outputs": [
    {
     "name": "stdout",
     "output_type": "stream",
     "text": [
      "Qual seria a sua altura: 1.86\n",
      "Você é homem e seu peso é: 77.2\n"
     ]
    }
   ],
   "source": [
    "# Criei um programa que calcule o peso ideal de uma pessoa. Para isso utilize as fórmulas da tabela:\n",
    "# HOMENS: 72.7 * altura – 58\n",
    "# MULHERES : 62.1 * altura – 44.7 \n",
    "# Sua aplicação deve identificar se a pessoa é Homem ou Mulher e então fazer o cálculo apropriado.\n",
    "# Deve ser impresso se a pessoa é homem ou mulher, juntamente com o peso ideal calculado.\n",
    "\n",
    "\n",
    "altura = float(input(\"Qual seria a sua altura: \"))\n",
    "pesoH = (72.7 * altura) - 58 \n",
    "pesoM = (62.1 * altura) - 44.7\n",
    "\n",
    "pesoIdeal = pesoH or pesoM\n",
    "\n",
    "if altura >= 1.72:\n",
    "    print(f'Você é homem e seu peso é: {pesoIdeal:.1f}')\n",
    "else:\n",
    "    print(f'Você é mulher e seu peso é: {pesoIdeal:.1f}')\n",
    "    "
   ]
  },
  {
   "cell_type": "markdown",
   "id": "1b072c8f",
   "metadata": {},
   "source": [
    "### Questão 6"
   ]
  },
  {
   "cell_type": "code",
   "execution_count": 29,
   "id": "7e9cffad",
   "metadata": {},
   "outputs": [
    {
     "name": "stdout",
     "output_type": "stream",
     "text": [
      "Indique sua altura: 1.86\n",
      "Indique seu peso: 79\n",
      "\n",
      "Valor do IMC     |     Classificação\n",
      "Abaixo de 18,5   |   Pessoa abaixo do peso\n",
      "Entre 18,5 e 25  |   Pessoa com peso normal\n",
      "Entre 25 e 30    |   Pessoa acima do peso\n",
      "Acima de 30      |   Pessoa obesa  \n",
      "\n",
      "Seu IMC esta calculado em: 22.84\n"
     ]
    }
   ],
   "source": [
    "# Crie um programa que faça o cálculo do IMC de uma pessoa (ele deve ser impresso na tela)\n",
    "# E classifique o IMC dessa pessoa de acordo com a tabela (também deverá ser impresso):\n",
    "\n",
    "# Valor do IMC     |     Classificação\n",
    "# Abaixo de 18,5   |   Pessoa abaixo do peso\n",
    "# Entre 18,5 e 25  |   Pessoa com peso normal\n",
    "# Entre 25 e 30    |   Pessoa acima do peso\n",
    "# Acima de 30      |   Pessoa obesa\n",
    "\n",
    "tabela = '''\n",
    "Valor do IMC     |     Classificação\n",
    "Abaixo de 18,5   |   Pessoa abaixo do peso\n",
    "Entre 18,5 e 25  |   Pessoa com peso normal\n",
    "Entre 25 e 30    |   Pessoa acima do peso\n",
    "Acima de 30      |   Pessoa obesa  '''\n",
    "\n",
    "altura = float(input('Indique sua altura: '))\n",
    "peso = float(input('Indique seu peso: '))\n",
    "calculoIMC = peso / ( altura )**2\n",
    "\n",
    "print(tabela)\n",
    "print()\n",
    "print(f'Seu IMC esta calculado em: {calculoIMC:.2f}')\n"
   ]
  },
  {
   "cell_type": "markdown",
   "id": "b2c5051a",
   "metadata": {},
   "source": [
    "### Questão 7"
   ]
  },
  {
   "cell_type": "code",
   "execution_count": 72,
   "id": "1c68ebf2",
   "metadata": {},
   "outputs": [
    {
     "name": "stdout",
     "output_type": "stream",
     "text": [
      "Preço do produto é R$: 200\n",
      "forma de pagamento: mais de duas \n",
      "Seu produto sai em R$: 220.00\n"
     ]
    }
   ],
   "source": [
    "#                   Regras\n",
    "# À vista em dinheiro, recebe 15% de desconto\n",
    "# À vista no cartão de crédito, recebe 10% de desconto\n",
    "# Em duas vezes, preço normal de etiqueta sem juros\n",
    "# Mais de duas vezes, preço normal de etiqueta mais juros de 10%\n",
    "\n",
    "# O programa deve ter uma variável com o valor de etiqueta do produto,\n",
    "# uma variável com forma de pagamento e uma com o preço final após a aplicação de uma das regras\n",
    "\n",
    "vep = float(input('Preço do produto é R$: '))\n",
    "formaPagamento = str(input('forma de pagamento: '))\n",
    "\n",
    "if formaPagamento == 'a vista':\n",
    "    preco = vep * 0.15   # porcentagem 0.15 = 15/100 \n",
    "    subTotal = vep - preco\n",
    "    print(f'Seu produto sai com R$:{subTotal:.2f}')\n",
    "\n",
    "if formaPagamento == 'a vista no credito':\n",
    "    preco = vep * 0.10   \n",
    "    subTotal = vep - preco\n",
    "    print(f'Seu produto sai em R$:{subTotal:.2f}')\n",
    "    \n",
    "elif formaPagamento == 'duas vezes':\n",
    "    preco = vep * 0.50\n",
    "    print(f'Seu produto sai em R$: {preco:.2f}')\n",
    "    \n",
    "else:\n",
    "    formaPagamento == 'mais de duas'\n",
    "    preco = vep * 1.10   # JUROS\n",
    "    print(f'Seu produto sai em R$: {preco:.2f}')"
   ]
  },
  {
   "cell_type": "markdown",
   "id": "1cbc40f6",
   "metadata": {},
   "source": [
    "### Questão 8"
   ]
  },
  {
   "cell_type": "code",
   "execution_count": 23,
   "id": "3b2627fd",
   "metadata": {},
   "outputs": [
    {
     "name": "stdout",
     "output_type": "stream",
     "text": [
      "U L T I M A\n"
     ]
    }
   ],
   "source": [
    "# 1 - adicionar a primeira letra ao cod\n",
    "# 2 - ler a segunda letra e concatenar na variavel\n",
    "# 3 - identificar o caracter separador, converter o code numerico em letra \n",
    "\n",
    "mensagem_criptografada = ['8', '5', '-1', '7', '6', '-1', '8', '4', '-1', '7', '3', '-1', '7', '7', '-1', '6', '5', '-1']\n",
    "\n",
    "codigo_letra1 = '8' + '5'\n",
    "codigo_letra2 = '7' + '6'\n",
    "codigo_letra3 = '8' + '4' \n",
    "codigo_letra4 = '7' + '3'\n",
    "codigo_letra5 = '7' + '7'\n",
    "codigo_letra6 = '6' + '5'\n",
    "\n",
    "palavra1 = chr(int(codigo_letra1))\n",
    "palavra2 = chr(int(codigo_letra2))\n",
    "palavra3 = chr(int(codigo_letra3))\n",
    "palavra4 = chr(int(codigo_letra4))\n",
    "palavra5 = chr(int(codigo_letra5))\n",
    "palavra6 = chr(int(codigo_letra6))\n",
    "\n",
    "print(palavra1,palavra2,palavra3,palavra4,palavra5,palavra6)"
   ]
  }
 ],
 "metadata": {
  "kernelspec": {
   "display_name": "Python 3 (ipykernel)",
   "language": "python",
   "name": "python3"
  },
  "language_info": {
   "codemirror_mode": {
    "name": "ipython",
    "version": 3
   },
   "file_extension": ".py",
   "mimetype": "text/x-python",
   "name": "python",
   "nbconvert_exporter": "python",
   "pygments_lexer": "ipython3",
   "version": "3.11.0"
  }
 },
 "nbformat": 4,
 "nbformat_minor": 5
}
