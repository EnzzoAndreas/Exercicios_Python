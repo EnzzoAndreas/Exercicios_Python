{
 "cells": [
  {
   "cell_type": "code",
   "execution_count": 8,
   "id": "60a15d79",
   "metadata": {},
   "outputs": [
    {
     "name": "stdout",
     "output_type": "stream",
     "text": [
      "1 TEST EXECUTED WITH SUCESSFFULY\n",
      "2 TEST EXECUTED WITH SUCESSFFULY\n",
      "3 TEST EXECUTED WITH SUCESSFFULY\n",
      "4 TEST EXECUTED WITH SUCESSFFULY\n",
      "5 TEST EXECUTED WITH SUCESSFFULY\n",
      "6 TEST EXECUTED WITH SUCESSFFULY\n",
      "7 TEST EXECUTED WITH SUCESSFFULY\n",
      "8 TEST EXECUTED WITH SUCESSFFULY\n",
      "9 TEST EXECUTED WITH SUCESSFFULY\n",
      "10 TEST EXECUTED WITH SUCESSFFULY\n",
      "11 TEST EXECUTED WITH SUCESSFFULY\n"
     ]
    }
   ],
   "source": [
    "import sqlite3\n",
    "\n",
    "conexao = sqlite3.connect('C:/Users\\maria/Documents/Curso Python/Ultima School/Banco de dados/M2S3.sqlite3')\n",
    "cursor = conexao.cursor()\n",
    "\n",
    "sql = '''\n",
    "CREATE TABLE Fornecedor(\n",
    "    id INTEGER NOT NULL PRIMARY KEY AUTOINCREMENT,\n",
    "    nome TEXT(50) NOT NULL ,\n",
    "    endereco TEXT(50) NOT NULL,\n",
    "    produto TEXT(50) NOT NULL\n",
    ")\n",
    "''' \n",
    "sql1 = '''\n",
    "INSERT INTO Fornecedor (nome,endereco,produto)\n",
    "    VALUES ('Empresa de Leite Parmaleite','Rua dos leites, 23','Leite')\n",
    "   \n",
    "'''\n",
    "sql2 = '''\n",
    "INSERT INTO Fornecedor (nome,endereco,produto)\n",
    "    VALUES ('Peixaria Abril','Rua dos leites, 26','Peixe')\n",
    "   \n",
    "'''\n",
    "sql3 = '''\n",
    "INSERT INTO Fornecedor (nome,endereco,produto)\n",
    "    VALUES ('Açougue Legal','Rua das Carnes, 30','Carne')\n",
    "   \n",
    "'''\n",
    "sql4 = '''\n",
    "INSERT INTO Fornecedor (nome,endereco,produto)\n",
    "    VALUES ('Açougue Novo','Rua das Carnes, 50','Carne')\n",
    "   \n",
    "'''\n",
    "sql5 = '''\n",
    "INSERT INTO fornecedor(nome,endereco,produto)\n",
    "    VALUES('Padaria do Pão','Rua dos Padeiros, 09','Pão')\n",
    "'''\n",
    "\n",
    "sql6 = '''\n",
    "INSERT INTO Fornecedor(nome,endereco,produto)\n",
    "    VALUES('Marcenaria Martelo','Rua dos Martelos, 111','Martelo')\n",
    "'''\n",
    "sql7 = '''\n",
    "UPDATE Fornecedor SET endereco = 'Rua dos Peixes, 26' WHERE id = 2\n",
    "'''\n",
    "\n",
    "sql8 = '''\n",
    "SELECT * FROM Fornecedor\n",
    "'''\n",
    "sql9 = '''\n",
    "SELECT * FROM Fornecedor WHERE produto = 'Carne'\n",
    "'''\n",
    "\n",
    "sql10 = '''\n",
    "DELETE FROM fornecedor WHERE id = 1\n",
    "'''\n",
    "cursor.execute(sql)\n",
    "print('1 TEST EXECUTED WITH SUCESSFFULY')\n",
    "cursor.execute(sql1)\n",
    "print('2 TEST EXECUTED WITH SUCESSFFULY')\n",
    "cursor.execute(sql2)\n",
    "print('3 TEST EXECUTED WITH SUCESSFFULY')\n",
    "cursor.execute(sql3)\n",
    "print('4 TEST EXECUTED WITH SUCESSFFULY')\n",
    "cursor.execute(sql4)\n",
    "print('5 TEST EXECUTED WITH SUCESSFFULY')\n",
    "cursor.execute(sql5)\n",
    "print('6 TEST EXECUTED WITH SUCESSFFULY')\n",
    "cursor.execute(sql6)\n",
    "print('7 TEST EXECUTED WITH SUCESSFFULY')\n",
    "cursor.execute(sql7)\n",
    "print('8 TEST EXECUTED WITH SUCESSFFULY')\n",
    "cursor.execute(sql8)\n",
    "print('9 TEST EXECUTED WITH SUCESSFFULY')\n",
    "cursor.execute(sql9)\n",
    "print('10 TEST EXECUTED WITH SUCESSFFULY')\n",
    "cursor.execute(sql10)\n",
    "print('11 TEST EXECUTED WITH SUCESSFFULY')\n",
    "\n",
    "conexao.commit()\n",
    "conexao.close()"
   ]
  },
  {
   "cell_type": "code",
   "execution_count": null,
   "id": "35431be2",
   "metadata": {},
   "outputs": [],
   "source": []
  }
 ],
 "metadata": {
  "kernelspec": {
   "display_name": "Python 3",
   "language": "python",
   "name": "python3"
  },
  "language_info": {
   "codemirror_mode": {
    "name": "ipython",
    "version": 3
   },
   "file_extension": ".py",
   "mimetype": "text/x-python",
   "name": "python",
   "nbconvert_exporter": "python",
   "pygments_lexer": "ipython3",
   "version": "3.11.0"
  },
  "vscode": {
   "interpreter": {
    "hash": "0b9832f27c5ea70394679bd537127f43581f6b20574434b483f64b86bb1b3379"
   }
  }
 },
 "nbformat": 4,
 "nbformat_minor": 5
}
