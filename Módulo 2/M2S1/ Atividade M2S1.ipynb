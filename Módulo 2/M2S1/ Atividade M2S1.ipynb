{
 "cells": [
  {
   "cell_type": "markdown",
   "id": "69851c30",
   "metadata": {},
   "source": [
    "1- Quais tipos de colunas o banco SQLite suporta?\n",
    "\n",
    "Resposta: BLOB, INTEGER, NUMERIC, REAL, TEXT."
   ]
  },
  {
   "cell_type": "code",
   "execution_count": 16,
   "id": "c05fd10d",
   "metadata": {},
   "outputs": [],
   "source": [
    "# 2- Crie uma tabela chamada “cliente”. Nela, é necessário ter as seguintes colunas:\n",
    "# id\n",
    "# nome\n",
    "# cpf\n",
    "# data_de_cadastro\n",
    "# Endereco\n",
    "\n",
    "import sqlite3\n",
    "\n",
    "conexao = sqlite3.connect('C:/Users/maria/Documents/Curso Python/Ultima School/Banco de dados/1BD.sqlite3')\n",
    "cursor = conexao.cursor()\n",
    "                          \n",
    "sql = \"\"\"\n",
    "CREATE TABLE cliente(\n",
    "    id INTEGER NOT NULL PRIMARY KEY AUTOINCREMENT,\n",
    "    nome TEXT(50),\n",
    "    cpf TEXT(11),\n",
    "    data_de_cadastro TEXT(10),\n",
    "    endereco TEXT(100)\n",
    ")\n",
    "\"\"\"\n",
    "cursor.execute(sql)\n",
    "conexao.commit()\n",
    "conexao.close()"
   ]
  },
  {
   "cell_type": "markdown",
   "id": "f11a2ed3",
   "metadata": {},
   "source": [
    "3- Não foi informado o tipo dessas colunas na tabela “cliente”. Qual seria o tipo ideal para cada coluna?\n",
    "\n",
    "Resposta:  id(INTEGER)\n",
    "           nome(TEXT)\n",
    "           cpf(TEXT)\n",
    "           data_de_cadastro(TEXT)\n",
    "           endereco(TEXT)"
   ]
  }
 ],
 "metadata": {
  "kernelspec": {
   "display_name": "Python 3 (ipykernel)",
   "language": "python",
   "name": "python3"
  },
  "language_info": {
   "codemirror_mode": {
    "name": "ipython",
    "version": 3
   },
   "file_extension": ".py",
   "mimetype": "text/x-python",
   "name": "python",
   "nbconvert_exporter": "python",
   "pygments_lexer": "ipython3",
   "version": "3.11.0"
  }
 },
 "nbformat": 4,
 "nbformat_minor": 5
}
