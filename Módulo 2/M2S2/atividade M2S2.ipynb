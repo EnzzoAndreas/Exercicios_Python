{
 "cells": [
  {
   "cell_type": "markdown",
   "id": "c31344bb",
   "metadata": {},
   "source": [
    "1 -> Crie um programa em Python que gere tabelas para uma aplicação de gerenciamento de tarefas. As tabelas devem compreender as seguintes funcionalidades:\n",
    "a - As tarefas devem ser divididas em “categorias”;\n",
    "b - Uma tarefa deve ter nome, data, categoria e status de conclusão (se foi realizada ou não); \n",
    "c - As restrições/relacionamentos devem fazer sentido."
   ]
  },
  {
   "cell_type": "code",
   "execution_count": 17,
   "id": "ea1d5424",
   "metadata": {},
   "outputs": [],
   "source": [
    "import sqlite3\n",
    "\n",
    "conexao = sqlite3.connect('C:/Users/maria/Documents/Curso Python/Ultima School/Banco de dados/M2S2.sqlite3')\n",
    "cursor = conexao.cursor()\n",
    "\n",
    "sql = '''\n",
    "CREATE TABLE tarefas(\n",
    "    id INTEGER NOT NULL PRIMARY KEY AUTOINCREMENT,\n",
    "    nome TEXT(50) NOT NULL,\n",
    "    data TEXT(10) NOT NULL,\n",
    "    categoria TEXT(15) NOT NULL,\n",
    "    status_conclusao TEXT(1) NOT NULL\n",
    ")\n",
    "'''\n",
    "\n",
    "sql1 = '''\n",
    "CREATE TABLE categorias(\n",
    "    id INTEGER NOT NULL PRIMARY KEY AUTOINCREMENT,\n",
    "    id_tarefas INTEGER NOT NULL,\n",
    "    CONSTRAINT categorias_UN UNIQUE(id),\n",
    "    CONSTRAINT categorias_FK FOREIGN KEY (id_tarefas) REFERENCES tarefas(id) ON DELETE CASCADE\n",
    ")\n",
    "'''\n",
    "cursor.execute(sql)\n",
    "cursor.execute(sql1)\n",
    "conexao.commit()\n",
    "conexao.close()"
   ]
  },
  {
   "cell_type": "markdown",
   "id": "2db70b17",
   "metadata": {},
   "source": [
    "# "
   ]
  },
  {
   "cell_type": "markdown",
   "id": "2be72dc0",
   "metadata": {},
   "source": [
    "2 -> Crie um programa em Python que gere tabelas para uma aplicação de eventos. Elas devem compreender as seguintes funcionalidades:\n",
    "a - Eventos devem ter título, data e local, além da referência ao organizador;\n",
    "b - O organizador deve ter nome, email e cpf;\n",
    "c - As restrições/relacionamentos devem fazer sentido."
   ]
  },
  {
   "cell_type": "code",
   "execution_count": 26,
   "id": "b5ce35ae",
   "metadata": {},
   "outputs": [],
   "source": [
    "import sqlite3\n",
    "\n",
    "conexao = sqlite3.connect(\"C:/Users/maria/Documents/Curso Python/Ultima School/Banco de dados/M2S2.sqlite3\")\n",
    "cursor = conexao.cursor()\n",
    "\n",
    "sql = '''\n",
    "CREATE TABLE eventos(\n",
    "    id INTEGER NOT NULL PRIMARY KEY AUTOINCREMENT,\n",
    "    titulos TEXT(50) NOT NULL,\n",
    "    data TEXT(10) NOT NULL,\n",
    "    local TEXT(50),\n",
    "    organizador_referente TEXT(20) NOT NULL\n",
    ")\n",
    "'''\n",
    "\n",
    "sql1 = '''\n",
    "CREATE TABLE organizador(\n",
    "    id INTEGER NOT NULL PRIMARY KEY AUTOINCREMENT,\n",
    "    nome TEXT(50) NOT NULL,\n",
    "    email TEXT(50),\n",
    "    cpf TEXT(11) NOT NULL\n",
    ")\n",
    "'''\n",
    "\n",
    "sql2 = '''\n",
    "CREATE TABLE escala(\n",
    "    id INTEGER NOT NULL PRIMARY KEY AUTOINCREMENT,\n",
    "    id_eventos INTEGER NOT NULL,\n",
    "    id_organizador INTEGER NOT NULL,\n",
    "    CONSTRAINT escala_UN UNIQUE(id),\n",
    "    CONSTRAINT escala_FK FOREIGN KEY (id_eventos) REFERENCES eventos(id) ON DELETE CASCADE,\n",
    "    CONSTRAINT escala_FK_1 FOREIGN KEY (id_organizador) REFERENCES organizador(id) ON DELETE CASCADE\n",
    "\n",
    ")\n",
    "'''\n",
    "cursor.execute(sql)\n",
    "cursor.execute(sql1)\n",
    "cursor.execute(sql2)\n",
    "conexao.commit()\n",
    "conexao.close()"
   ]
  }
 ],
 "metadata": {
  "kernelspec": {
   "display_name": "base",
   "language": "python",
   "name": "python3"
  },
  "language_info": {
   "codemirror_mode": {
    "name": "ipython",
    "version": 3
   },
   "file_extension": ".py",
   "mimetype": "text/x-python",
   "name": "python",
   "nbconvert_exporter": "python",
   "pygments_lexer": "ipython3",
   "version": "3.11.0"
  },
  "vscode": {
   "interpreter": {
    "hash": "ca02d05c83cb06a4d3d1bb3c2ad95bd9ee4b26f688526444572dc942a69d580d"
   }
  }
 },
 "nbformat": 4,
 "nbformat_minor": 5
}
